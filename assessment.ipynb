{
 "cells": [
  {
   "cell_type": "code",
   "execution_count": 51,
   "metadata": {},
   "outputs": [],
   "source": [
    "import pandas as pd\n",
    "import datetime\n",
    "import nltk\n",
    "\n",
    "import re\n",
    "\n",
    "#For model\n",
    "from nltk.sentiment.vader import SentimentIntensityAnalyzer\n",
    "\n",
    "#Export as csv\n",
    "import pyarrow as pa\n",
    "import pyarrow.csv as csv"
   ]
  },
  {
   "cell_type": "code",
   "execution_count": 52,
   "metadata": {},
   "outputs": [],
   "source": [
    "#Load in data and convert to dictionary\n",
    "#https://www.kaggle.com/datasets/thoughtvector/customer-support-on-twitter\n",
    "df = pd.read_csv(\"twcs.csv\")\n",
    "df = df.dropna(subset = \"text\") #Remove NA text if any\n",
    "\n",
    "cs = df.to_dict(orient = \"records\")"
   ]
  },
  {
   "cell_type": "code",
   "execution_count": 53,
   "metadata": {},
   "outputs": [
    {
     "data": {
      "text/html": [
       "<div>\n",
       "<style scoped>\n",
       "    .dataframe tbody tr th:only-of-type {\n",
       "        vertical-align: middle;\n",
       "    }\n",
       "\n",
       "    .dataframe tbody tr th {\n",
       "        vertical-align: top;\n",
       "    }\n",
       "\n",
       "    .dataframe thead th {\n",
       "        text-align: right;\n",
       "    }\n",
       "</style>\n",
       "<table border=\"1\" class=\"dataframe\">\n",
       "  <thead>\n",
       "    <tr style=\"text-align: right;\">\n",
       "      <th></th>\n",
       "      <th>tweet_id</th>\n",
       "      <th>author_id</th>\n",
       "      <th>inbound</th>\n",
       "      <th>created_at</th>\n",
       "      <th>text</th>\n",
       "      <th>response_tweet_id</th>\n",
       "      <th>in_response_to_tweet_id</th>\n",
       "    </tr>\n",
       "  </thead>\n",
       "  <tbody>\n",
       "    <tr>\n",
       "      <th>2811769</th>\n",
       "      <td>2987947</td>\n",
       "      <td>sprintcare</td>\n",
       "      <td>False</td>\n",
       "      <td>Wed Nov 22 08:43:51 +0000 2017</td>\n",
       "      <td>@823869 Hey, we'd be happy to look into this f...</td>\n",
       "      <td>NaN</td>\n",
       "      <td>2987948.0</td>\n",
       "    </tr>\n",
       "    <tr>\n",
       "      <th>2811770</th>\n",
       "      <td>2987948</td>\n",
       "      <td>823869</td>\n",
       "      <td>True</td>\n",
       "      <td>Wed Nov 22 08:35:16 +0000 2017</td>\n",
       "      <td>@115714 wtf!? I’ve been having really shitty s...</td>\n",
       "      <td>2987947</td>\n",
       "      <td>NaN</td>\n",
       "    </tr>\n",
       "    <tr>\n",
       "      <th>2811771</th>\n",
       "      <td>2812240</td>\n",
       "      <td>121673</td>\n",
       "      <td>True</td>\n",
       "      <td>Thu Nov 23 04:13:07 +0000 2017</td>\n",
       "      <td>@143549 @sprintcare You have to go to https://...</td>\n",
       "      <td>NaN</td>\n",
       "      <td>2812239.0</td>\n",
       "    </tr>\n",
       "    <tr>\n",
       "      <th>2811772</th>\n",
       "      <td>2987949</td>\n",
       "      <td>AldiUK</td>\n",
       "      <td>False</td>\n",
       "      <td>Wed Nov 22 08:31:24 +0000 2017</td>\n",
       "      <td>@823870 Sounds delicious, Sarah! 😋 https://t.c...</td>\n",
       "      <td>NaN</td>\n",
       "      <td>2987950.0</td>\n",
       "    </tr>\n",
       "    <tr>\n",
       "      <th>2811773</th>\n",
       "      <td>2987950</td>\n",
       "      <td>823870</td>\n",
       "      <td>True</td>\n",
       "      <td>Tue Nov 21 22:01:04 +0000 2017</td>\n",
       "      <td>@AldiUK  warm sloe gin mince pies with ice cre...</td>\n",
       "      <td>2987951,2987949</td>\n",
       "      <td>NaN</td>\n",
       "    </tr>\n",
       "  </tbody>\n",
       "</table>\n",
       "</div>"
      ],
      "text/plain": [
       "         tweet_id   author_id  inbound                      created_at  \\\n",
       "2811769   2987947  sprintcare    False  Wed Nov 22 08:43:51 +0000 2017   \n",
       "2811770   2987948      823869     True  Wed Nov 22 08:35:16 +0000 2017   \n",
       "2811771   2812240      121673     True  Thu Nov 23 04:13:07 +0000 2017   \n",
       "2811772   2987949      AldiUK    False  Wed Nov 22 08:31:24 +0000 2017   \n",
       "2811773   2987950      823870     True  Tue Nov 21 22:01:04 +0000 2017   \n",
       "\n",
       "                                                      text response_tweet_id  \\\n",
       "2811769  @823869 Hey, we'd be happy to look into this f...               NaN   \n",
       "2811770  @115714 wtf!? I’ve been having really shitty s...           2987947   \n",
       "2811771  @143549 @sprintcare You have to go to https://...               NaN   \n",
       "2811772  @823870 Sounds delicious, Sarah! 😋 https://t.c...               NaN   \n",
       "2811773  @AldiUK  warm sloe gin mince pies with ice cre...   2987951,2987949   \n",
       "\n",
       "         in_response_to_tweet_id  \n",
       "2811769                2987948.0  \n",
       "2811770                      NaN  \n",
       "2811771                2812239.0  \n",
       "2811772                2987950.0  \n",
       "2811773                      NaN  "
      ]
     },
     "execution_count": 53,
     "metadata": {},
     "output_type": "execute_result"
    }
   ],
   "source": [
    "df.len() #2811773 tweets"
   ]
  },
  {
   "cell_type": "code",
   "execution_count": 54,
   "metadata": {},
   "outputs": [],
   "source": [
    "#Analyse all tweets\n",
    "#Create negativity score and create a new column to contain the results\n",
    "vader = SentimentIntensityAnalyzer()\n",
    "\n",
    "for text in cs:\n",
    "    text[\"negative\"] = vader.polarity_scores(text[\"text\"])[\"neg\"]"
   ]
  },
  {
   "cell_type": "code",
   "execution_count": 55,
   "metadata": {},
   "outputs": [],
   "source": [
    "#Convert dictionary to df\n",
    "cs2 = pd.DataFrame(cs)"
   ]
  },
  {
   "cell_type": "code",
   "execution_count": 65,
   "metadata": {},
   "outputs": [],
   "source": [
    "#Save as csv so I don't have to do 20 mins of processing\n",
    "#new_pa_dataframe = pa.Table.from_pandas(cs2)\n",
    "\n",
    "#write csv\n",
    "#csv.write_csv(new_pa_dataframe, \"output.csv\")"
   ]
  },
  {
   "cell_type": "code",
   "execution_count": 73,
   "metadata": {},
   "outputs": [],
   "source": [
    "#Load data previously saved\n",
    "df = pd.read_csv(\"output.csv\")"
   ]
  },
  {
   "cell_type": "code",
   "execution_count": 69,
   "metadata": {},
   "outputs": [],
   "source": [
    "#Remove company tweets from the dataframe\n",
    "df[\"author_id\"] = pd.to_numeric(df[\"author_id\"], errors = \"coerce\")\n",
    "cs3 = df.dropna(subset = [\"author_id\"])"
   ]
  },
  {
   "cell_type": "code",
   "execution_count": 78,
   "metadata": {},
   "outputs": [
    {
     "name": "stdout",
     "output_type": "stream",
     "text": [
      "1537843\n",
      "False    880024\n",
      "True     657819\n",
      "Name: negative, dtype: int64\n",
      "0.4277543286278248\n",
      "False    1460306\n",
      "True       77537\n",
      "Name: negative, dtype: int64\n",
      "0.05041932108804345\n",
      "False    1527648\n",
      "True       10195\n",
      "Name: negative, dtype: int64\n",
      "0.006629415356444058\n"
     ]
    }
   ],
   "source": [
    "#Negativity score bracketing information\n",
    "print(len(cs3))\n",
    "print((cs3[\"negative\"] > 0).value_counts()) #657819 negative\n",
    "print(657819/1537843)\n",
    "print((cs3[\"negative\"] > 0.3).value_counts()) #77537 negative\n",
    "print(77537/1537843)\n",
    "print((cs3[\"negative\"] > 0.5).value_counts()) #10195 negative\n",
    "print(10195/1537843)"
   ]
  },
  {
   "cell_type": "code",
   "execution_count": 71,
   "metadata": {},
   "outputs": [
    {
     "name": "stderr",
     "output_type": "stream",
     "text": [
      "C:\\Users\\Sashh\\AppData\\Local\\Temp\\ipykernel_8816\\3503456704.py:1: SettingWithCopyWarning: \n",
      "A value is trying to be set on a copy of a slice from a DataFrame.\n",
      "Try using .loc[row_indexer,col_indexer] = value instead\n",
      "\n",
      "See the caveats in the documentation: https://pandas.pydata.org/pandas-docs/stable/user_guide/indexing.html#returning-a-view-versus-a-copy\n",
      "  cs3[\"in_response_to_tweet_id\"] = pd.isna(cs3[\"in_response_to_tweet_id\"])\n"
     ]
    }
   ],
   "source": [
    "#Turn column into True/False rather than numeric\n",
    "cs3[\"in_response_to_tweet_id\"] = pd.isna(cs3[\"in_response_to_tweet_id\"])"
   ]
  },
  {
   "cell_type": "code",
   "execution_count": 109,
   "metadata": {},
   "outputs": [
    {
     "name": "stdout",
     "output_type": "stream",
     "text": [
      "1834711                                                                                                                                                                                                                                                                                                          WTF\n",
      "216483                                                                                                                                                                                                                                                                                                     SCREAMING\n",
      "1934212                                                                                                                                                                                                                                                                                                       fiery.\n",
      "741778         @AppleSupport NO NO NO NO NO NO NO NO NO NO NO NO NO NO NO NO NO NO NO NO NO NO NO NO NO NO NO NO NO NO NO NO NO NO NO NO NO NO NO NO NO NO NO NO NO NO NO NO NO NO NO NO NO NO NO NO NO NO NO NO NO NO NO NO NO NO NO NO NO NO NO NO NO NO NO NO NO NO NO NO NO NO NO NO NO NO NO NO NO NO NO NO NO!\n",
      "2793293                                                                                                                                                                                                                                                  @SouthwestAir Terribly disappointed, seriously disappointed\n",
      "205596                                                                                                                                                                                                                                                                                   @AmericanAir LIES LIES LIES\n",
      "2671184                                                                                                                                                                                                                                                                           @Uber_Support Lying cheating fucks\n",
      "1866433                                                                                                                                                                                                                                                                                @sainsburys No no no wrong! 😂\n",
      "2262586                                                                                                                                                                                                                                                                   I FUCKING HATE RETARDED GREEDY ASS @116827\n",
      "1829680                                                                                                                                                                                                                                                                            @VerizonSupport Shame shame shame\n",
      "988090                                                                                                                                                                                                                                                                      @idea_cares Hopeless, hopeless, hopeless\n",
      "1382355                                                                                                                                                                                                                                                                                      @CoxHelp Rude rude rude\n",
      "2255812                                                                                                                                                                                                                                                                           @115850 cheaters cheaters cheaters\n",
      "140332                                                                                                                                                                                                                                                                                        @SpotifyCares :( :( :(\n",
      "2652483                                                                                                                                                                                                                                                                                    @VirginTrains :O :O :O :O\n",
      "1467711                                                                                                                                                                                                                                                                                     u bitches SHITTY @115714\n",
      "1468063                                                                                                                                                                                                                                                                                            @494877 Shit dead\n",
      "2308525                                                                                                                                                                                                                                                                         @GreggsOfficial No unfortunately :'(\n",
      "1697299                                                                                                                                                                                                                                                                     @USCellularCares No warning! Ridiculous!\n",
      "996419                                                                                                                                                                                                                                                                               @AmazonHelp Unfortunately no :(\n",
      "1176148                                                                                                                                                                                                                                                                                           @115714 SUCKS ASS.\n",
      "812202                                                                                                                                                                                                                                                 @AmericanAir horrible services!!! Horrible horrible horrible.\n",
      "2468243                                                                                                                                                                                        NO NO NO NO NO NO NO NO NO NO NO NO NO NO NO  NOOOOOOOOOOOOOOOOOOOOOOOOOO FIX THIS RN @115765 https://t.co/HlUWxI5jOQ\n",
      "2567062                                                                                                                                                                                                                                           @Uber_Support @767190 Cheaters cheaters cheaters cheaters cheaters\n",
      "1621252                                                                                                                                                                                                                                                                                         @116827 stupid bitch\n",
      "1502509                                                                                                                                                                                                                                                                            Livid!! Unacceptable @AmericanAir\n",
      "1135891                                                                                                                                                                                                                                                                                       Ugh!! l hate @115817 😡\n",
      "593636                                                                                                                                                                                                                                                                                          @AmazonHelp Hell no!\n",
      "1998460    @633306 @ATT Lies lies lies lies lies lies lies lies lies lies lies lies lies lies lies lies lies &amp; how do we pay for it?  The middle class that’s who! Look it up! Lies lies lies lies lies lies lies  lies lies lies lies lies lies lies lies lies lies lies lies lies lies lies lies lies lies lie\n",
      "978873                                                                                                                                                                                                                                                                             @UPSHelp Blah blah blah blah blah\n",
      "1383508                                                                                                                                                                                                                                                                                     @Delta delay delay delay\n",
      "418542                                                                                                                                                                                                                                                                                         @Uber_Support Hell no\n",
      "2168969                                                                                                                                                                                                                                                                                      @GreggsOfficial Hell no\n",
      "1326533                                                                                                                                                                                                                                                                                    @CenturyLinkHelp Hell no.\n",
      "622213                                                                                                                                                                                                                                                                                      @VerizonSupport Hell no.\n",
      "2761207                                                                                                                                                                                                                                                                              @McDonalds TRICK! TRICK! TRICK!\n",
      "791366                                                                                                                                                                                                                                                                                       SERIOUSLY. FUCK @115817\n",
      "1101789                                                                                                                                                                                                                                                                                     @AppleSupport No. No. No\n",
      "1805313                                                                                                                                                                                                                                                                    @Ask_WellsFargo Fuck no shady ass bitches\n",
      "1740431                                                                                                                                                                                                                                                                                   I hate @AmericanAir u suck\n",
      "1750204                                                                                                                                                                                                                                                                     Moronic cheaters https://t.co/1VVUueBT4y\n",
      "1366693                                                                                                                                                                                                                                                                         @comcastcares @469146 RIOT RIOT RIOT\n",
      "1711515                                                                                                                                                                                                                                                                                 I freaking hate @115714....🙄\n",
      "2745370                                                                                                                                                                                             Spotify down? #Spotify :O :O  :O  :O  :O  :O  :O  :O  :O  :O  :O  :O  :O  :O  :O @115888 https://t.co/gAKJKKcpPB\n",
      "936646                                                                                                                                                                                                                                                                                     @Uber_Support Suck a dick\n",
      "1134477                                                                                                                                                                                                                                                                                     I seriously HATE @115714\n",
      "870211                                                                                                                                                                                                                                                                                             Charged me wtf???\n",
      "2521686                                                                                                                                                                                                                                                               @VirginTrains nofreewifi? Shame shame shame :(\n",
      "1618657                                                                                                                                                                                                                                                                               I really hate @116827 dead ass\n",
      "1476061                                                                                                                                                                                                                                                                                     @ChipotleTweets No bitch\n",
      "Name: text, dtype: object\n"
     ]
    }
   ],
   "source": [
    "#Display 100 tweets to read for validation purposes\n",
    "pd.set_option(\"display.max_colwidth\", None)\n",
    "print(cs3.sort_values(\"negative\", ascending = False)[\"text\"].head(100)) #Change between True/False for 100 non-negative/negative"
   ]
  },
  {
   "cell_type": "code",
   "execution_count": 90,
   "metadata": {},
   "outputs": [
    {
     "name": "stdout",
     "output_type": "stream",
     "text": [
      "0.07554541458392941\n",
      "0.06423138666776747 0.08632992864636137\n"
     ]
    },
    {
     "data": {
      "text/plain": [
       "Text(0, 0.5, 'Mean')"
      ]
     },
     "execution_count": 90,
     "metadata": {},
     "output_type": "execute_result"
    },
    {
     "data": {
      "image/png": "[encoded data removed]",
      "text/plain": [
       "<Figure size 640x480 with 1 Axes>"
      ]
     },
     "metadata": {},
     "output_type": "display_data"
    }
   ],
   "source": [
    "print(cs3[\"negative\"].mean()) #Mean for all\n",
    "#Binary based on above or equal to/below mean\n",
    "cs3[\"nbinary\"] = (cs3[\"negative\"] >= (cs3[\"negative\"].mean())).astype(int)\n",
    "\n",
    "#Mean for each response\n",
    "noresp = cs3.loc[~cs3[\"in_response_to_tweet_id\"], \"negative\"].mean() #Is a response\n",
    "resp = cs3.loc[cs3[\"in_response_to_tweet_id\"], \"negative\"].mean() #Is not a response\n",
    "\n",
    "print(noresp, resp)\n",
    "\n",
    "#dataframe to create plot\n",
    "data = {\n",
    "    \"Response\": [\"No\", \"Yes\"],\n",
    "    \"Mean\": [noresp, resp]\n",
    "}\n",
    "data = pd.DataFrame(data)\n",
    "#Mean from text to numeric\n",
    "data[\"Mean\"] = pd.to_numeric(data[\"Mean\"])\n",
    "\n",
    "#Plot\n",
    "plt = data.plot.bar(x = \"Response\", y = \"Mean\")\n",
    "plt.set_title(\"Figure 1: Mean Negative Sentiment of Customers\")\n",
    "plt.set_xlabel(\"Is a Response\")\n",
    "plt.set_ylabel(\"Mean\")"
   ]
  },
  {
   "cell_type": "code",
   "execution_count": null,
   "metadata": {},
   "outputs": [],
   "source": [
    "#Save as csv for R\n",
    "new_pa_dataframe = pa.Table.from_pandas(cs3)\n",
    "\n",
    "#write csv\n",
    "csv.write_csv(new_pa_dataframe, \"output2.csv\")"
   ]
  },
  {
   "cell_type": "code",
   "execution_count": null,
   "metadata": {},
   "outputs": [],
   "source": [
    "#These are the lines of code used in R to produce the logistic regression and check AIC\n",
    "\n",
    "#wrkdir <- setwd(\"C:/Users/Sashh/Documents/ExternalBackup/Exeter/Programs/python/961Assessment2\")\n",
    "#wrkdir\n",
    "\n",
    "#cs3 <- read.csv(\"output2.csv\")\n",
    "\n",
    "#Logistic regression\n",
    "#m <- glm(nbinary ~ in_response_to_tweet_id, data = cs3, family = \"binomial\")\n",
    "#summary(m) #0.489 increase in the log odds\n",
    "\n",
    "#m0 <- glm(nbinary ~ NULL, data = cs3, family = \"binomial\")\n",
    "#summary(m0)"
   ]
  }
 ],
 "metadata": {
  "kernelspec": {
   "display_name": "Python 3 (ipykernel)",
   "language": "python",
   "name": "python3"
  },
  "language_info": {
   "codemirror_mode": {
    "name": "ipython",
    "version": 3
   },
   "file_extension": ".py",
   "mimetype": "text/x-python",
   "name": "python",
   "nbconvert_exporter": "python",
   "pygments_lexer": "ipython3",
   "version": "3.9.13"
  }
 },
 "nbformat": 4,
 "nbformat_minor": 2
}
